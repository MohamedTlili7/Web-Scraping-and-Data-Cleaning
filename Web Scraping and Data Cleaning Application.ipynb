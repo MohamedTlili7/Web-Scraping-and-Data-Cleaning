{
 "cells": [
  {
   "cell_type": "code",
   "execution_count": 2,
   "id": "6fe5df2c",
   "metadata": {},
   "outputs": [],
   "source": [
    "from bs4 import BeautifulSoup\n",
    "import requests\n",
    "import csv\n",
    "import pandas as pd\n",
    "import itertools"
   ]
  },
  {
   "cell_type": "markdown",
   "id": "22ef3e82",
   "metadata": {},
   "source": [
    "### In case you already have a CSV/Excel containing scraped data :"
   ]
  },
  {
   "cell_type": "code",
   "execution_count": 801,
   "id": "1b30cc84",
   "metadata": {},
   "outputs": [
    {
     "data": {
      "text/html": [
       "<div>\n",
       "<style scoped>\n",
       "    .dataframe tbody tr th:only-of-type {\n",
       "        vertical-align: middle;\n",
       "    }\n",
       "\n",
       "    .dataframe tbody tr th {\n",
       "        vertical-align: top;\n",
       "    }\n",
       "\n",
       "    .dataframe thead th {\n",
       "        text-align: right;\n",
       "    }\n",
       "</style>\n",
       "<table border=\"1\" class=\"dataframe\">\n",
       "  <thead>\n",
       "    <tr style=\"text-align: right;\">\n",
       "      <th></th>\n",
       "      <th>Topic</th>\n",
       "      <th>Question</th>\n",
       "      <th>Answer</th>\n",
       "    </tr>\n",
       "  </thead>\n",
       "  <tbody>\n",
       "    <tr>\n",
       "      <th>0</th>\n",
       "      <td>Account</td>\n",
       "      <td>Sign in to your Stripe account without a 2FA d...</td>\n",
       "      <td>If you do not have your backup code or your au...</td>\n",
       "    </tr>\n",
       "    <tr>\n",
       "      <th>1</th>\n",
       "      <td>Account</td>\n",
       "      <td>Change the owner of a Stripe account</td>\n",
       "      <td>Change the owner of a Stripe account There are...</td>\n",
       "    </tr>\n",
       "    <tr>\n",
       "      <th>2</th>\n",
       "      <td>Account</td>\n",
       "      <td>Close a Stripe account</td>\n",
       "      <td>The owner of a Stripe account can close the ac...</td>\n",
       "    </tr>\n",
       "    <tr>\n",
       "      <th>3</th>\n",
       "      <td>Account</td>\n",
       "      <td>Unrecognized Stripe login email</td>\n",
       "      <td>Stripe sends an email when your account is acc...</td>\n",
       "    </tr>\n",
       "    <tr>\n",
       "      <th>4</th>\n",
       "      <td>Account</td>\n",
       "      <td>Set up account email notifications</td>\n",
       "      <td>Stripe can notify you of account activity via ...</td>\n",
       "    </tr>\n",
       "    <tr>\n",
       "      <th>...</th>\n",
       "      <td>...</td>\n",
       "      <td>...</td>\n",
       "      <td>...</td>\n",
       "    </tr>\n",
       "    <tr>\n",
       "      <th>212</th>\n",
       "      <td>Third-party integrations</td>\n",
       "      <td>Stripe Terminal compatibility with third-party...</td>\n",
       "      <td>A number of point of sale application develope...</td>\n",
       "    </tr>\n",
       "    <tr>\n",
       "      <th>213</th>\n",
       "      <td>Third-party integrations</td>\n",
       "      <td>Legal Entity Sharing</td>\n",
       "      <td>Legal Entity Sharing enables Stripe merchants ...</td>\n",
       "    </tr>\n",
       "    <tr>\n",
       "      <th>214</th>\n",
       "      <td>Third-party integrations</td>\n",
       "      <td>How do I resend missed webhooks from Magento?</td>\n",
       "      <td>To re-send / re-play webhooks which were not d...</td>\n",
       "    </tr>\n",
       "    <tr>\n",
       "      <th>215</th>\n",
       "      <td>Verification</td>\n",
       "      <td>Documents for identity and home address verifi...</td>\n",
       "      <td>Accepted document types Accepted document type...</td>\n",
       "    </tr>\n",
       "    <tr>\n",
       "      <th>216</th>\n",
       "      <td>Verification</td>\n",
       "      <td>What do I need to do to verify my Stripe account?</td>\n",
       "      <td>The information Stripe is required to collect ...</td>\n",
       "    </tr>\n",
       "  </tbody>\n",
       "</table>\n",
       "<p>217 rows × 3 columns</p>\n",
       "</div>"
      ],
      "text/plain": [
       "                        Topic  \\\n",
       "0                     Account   \n",
       "1                     Account   \n",
       "2                     Account   \n",
       "3                     Account   \n",
       "4                     Account   \n",
       "..                        ...   \n",
       "212  Third-party integrations   \n",
       "213  Third-party integrations   \n",
       "214  Third-party integrations   \n",
       "215              Verification   \n",
       "216              Verification   \n",
       "\n",
       "                                              Question  \\\n",
       "0    Sign in to your Stripe account without a 2FA d...   \n",
       "1                 Change the owner of a Stripe account   \n",
       "2                               Close a Stripe account   \n",
       "3                      Unrecognized Stripe login email   \n",
       "4                   Set up account email notifications   \n",
       "..                                                 ...   \n",
       "212  Stripe Terminal compatibility with third-party...   \n",
       "213                               Legal Entity Sharing   \n",
       "214      How do I resend missed webhooks from Magento?   \n",
       "215  Documents for identity and home address verifi...   \n",
       "216  What do I need to do to verify my Stripe account?   \n",
       "\n",
       "                                                Answer  \n",
       "0    If you do not have your backup code or your au...  \n",
       "1    Change the owner of a Stripe account There are...  \n",
       "2    The owner of a Stripe account can close the ac...  \n",
       "3    Stripe sends an email when your account is acc...  \n",
       "4    Stripe can notify you of account activity via ...  \n",
       "..                                                 ...  \n",
       "212  A number of point of sale application develope...  \n",
       "213  Legal Entity Sharing enables Stripe merchants ...  \n",
       "214  To re-send / re-play webhooks which were not d...  \n",
       "215  Accepted document types Accepted document type...  \n",
       "216  The information Stripe is required to collect ...  \n",
       "\n",
       "[217 rows x 3 columns]"
      ]
     },
     "execution_count": 801,
     "metadata": {},
     "output_type": "execute_result"
    }
   ],
   "source": [
    "df = pd.read_csv('Stripe_FAQ_Scraped.csv', encoding='cp1252')\n",
    "df"
   ]
  },
  {
   "cell_type": "code",
   "execution_count": 3,
   "id": "bd73f72e",
   "metadata": {},
   "outputs": [
    {
     "data": {
      "text/html": [
       "<div>\n",
       "<style scoped>\n",
       "    .dataframe tbody tr th:only-of-type {\n",
       "        vertical-align: middle;\n",
       "    }\n",
       "\n",
       "    .dataframe tbody tr th {\n",
       "        vertical-align: top;\n",
       "    }\n",
       "\n",
       "    .dataframe thead th {\n",
       "        text-align: right;\n",
       "    }\n",
       "</style>\n",
       "<table border=\"1\" class=\"dataframe\">\n",
       "  <thead>\n",
       "    <tr style=\"text-align: right;\">\n",
       "      <th></th>\n",
       "      <th>Topic</th>\n",
       "      <th>Question</th>\n",
       "      <th>Answer</th>\n",
       "    </tr>\n",
       "  </thead>\n",
       "  <tbody>\n",
       "    <tr>\n",
       "      <th>0</th>\n",
       "      <td>Account</td>\n",
       "      <td>Sign in to your Stripe account without a 2FA d...</td>\n",
       "      <td>If you do not have your backup code or your au...</td>\n",
       "    </tr>\n",
       "    <tr>\n",
       "      <th>1</th>\n",
       "      <td>Account</td>\n",
       "      <td>Change the owner of a Stripe account</td>\n",
       "      <td>Change the owner of a Stripe account There are...</td>\n",
       "    </tr>\n",
       "    <tr>\n",
       "      <th>2</th>\n",
       "      <td>Account</td>\n",
       "      <td>Close a Stripe account</td>\n",
       "      <td>The owner of a Stripe account can close the ac...</td>\n",
       "    </tr>\n",
       "    <tr>\n",
       "      <th>3</th>\n",
       "      <td>Account</td>\n",
       "      <td>Unrecognized Stripe login email</td>\n",
       "      <td>Stripe sends an email when your account is acc...</td>\n",
       "    </tr>\n",
       "    <tr>\n",
       "      <th>4</th>\n",
       "      <td>Account</td>\n",
       "      <td>Set up account email notifications</td>\n",
       "      <td>Stripe can notify you of account activity via ...</td>\n",
       "    </tr>\n",
       "    <tr>\n",
       "      <th>...</th>\n",
       "      <td>...</td>\n",
       "      <td>...</td>\n",
       "      <td>...</td>\n",
       "    </tr>\n",
       "    <tr>\n",
       "      <th>212</th>\n",
       "      <td>Third-party integrations</td>\n",
       "      <td>Stripe Terminal compatibility with third-party...</td>\n",
       "      <td>A number of point of sale application develope...</td>\n",
       "    </tr>\n",
       "    <tr>\n",
       "      <th>213</th>\n",
       "      <td>Third-party integrations</td>\n",
       "      <td>Legal Entity Sharing</td>\n",
       "      <td>Legal Entity Sharing enables Stripe merchants ...</td>\n",
       "    </tr>\n",
       "    <tr>\n",
       "      <th>214</th>\n",
       "      <td>Third-party integrations</td>\n",
       "      <td>How do I resend missed webhooks from Magento?</td>\n",
       "      <td>To re-send / re-play webhooks which were not d...</td>\n",
       "    </tr>\n",
       "    <tr>\n",
       "      <th>215</th>\n",
       "      <td>Verification</td>\n",
       "      <td>Documents for identity and home address verifi...</td>\n",
       "      <td>Accepted document types Accepted document type...</td>\n",
       "    </tr>\n",
       "    <tr>\n",
       "      <th>216</th>\n",
       "      <td>Verification</td>\n",
       "      <td>What do I need to do to verify my Stripe account?</td>\n",
       "      <td>The information Stripe is required to collect ...</td>\n",
       "    </tr>\n",
       "  </tbody>\n",
       "</table>\n",
       "<p>217 rows × 3 columns</p>\n",
       "</div>"
      ],
      "text/plain": [
       "                        Topic  \\\n",
       "0                     Account   \n",
       "1                     Account   \n",
       "2                     Account   \n",
       "3                     Account   \n",
       "4                     Account   \n",
       "..                        ...   \n",
       "212  Third-party integrations   \n",
       "213  Third-party integrations   \n",
       "214  Third-party integrations   \n",
       "215              Verification   \n",
       "216              Verification   \n",
       "\n",
       "                                              Question  \\\n",
       "0    Sign in to your Stripe account without a 2FA d...   \n",
       "1                 Change the owner of a Stripe account   \n",
       "2                               Close a Stripe account   \n",
       "3                      Unrecognized Stripe login email   \n",
       "4                   Set up account email notifications   \n",
       "..                                                 ...   \n",
       "212  Stripe Terminal compatibility with third-party...   \n",
       "213                               Legal Entity Sharing   \n",
       "214      How do I resend missed webhooks from Magento?   \n",
       "215  Documents for identity and home address verifi...   \n",
       "216  What do I need to do to verify my Stripe account?   \n",
       "\n",
       "                                                Answer  \n",
       "0    If you do not have your backup code or your au...  \n",
       "1    Change the owner of a Stripe account There are...  \n",
       "2    The owner of a Stripe account can close the ac...  \n",
       "3    Stripe sends an email when your account is acc...  \n",
       "4    Stripe can notify you of account activity via ...  \n",
       "..                                                 ...  \n",
       "212  A number of point of sale application develope...  \n",
       "213  Legal Entity Sharing enables Stripe merchants ...  \n",
       "214  To re-send / re-play webhooks which were not d...  \n",
       "215  Accepted document types Accepted document type...  \n",
       "216  The information Stripe is required to collect ...  \n",
       "\n",
       "[217 rows x 3 columns]"
      ]
     },
     "execution_count": 3,
     "metadata": {},
     "output_type": "execute_result"
    }
   ],
   "source": [
    "df = pd.read_excel('Stripe_FAQ_Scraped.xls')\n",
    "df"
   ]
  },
  {
   "cell_type": "markdown",
   "id": "0d2be4e7",
   "metadata": {},
   "source": [
    "## Cleaning links to access"
   ]
  },
  {
   "cell_type": "code",
   "execution_count": 3,
   "id": "10c8d553",
   "metadata": {},
   "outputs": [],
   "source": [
    "def clean_string(input_string):\n",
    "    input_string = input_string.lower()\n",
    "\n",
    "    # Replace spaces with \"-\" using the replace() method\n",
    "    replaced_string = input_string.replace(' ', '-')\n",
    "\n",
    "    # Remove slashes using the replace() method\n",
    "    final_string = replaced_string.replace('/', '-')\n",
    "\n",
    "    # Remove commas using the replace() method\n",
    "    final_string = final_string.replace(\",\", \"\")\n",
    "\n",
    "    # Remove single quotes using the replace() method\n",
    "    final_string = final_string.replace(\"’\", \"-\")\n",
    "    \n",
    "    final_string = final_string.replace(\"'\", \"-\")\n",
    "    \n",
    "    final_string = final_string.replace(\":\", \"\")\n",
    "    \n",
    "    final_string = final_string.replace(\"u.s.\", \"u-s\")\n",
    "    \n",
    "    return final_string"
   ]
  },
  {
   "cell_type": "code",
   "execution_count": 1510,
   "id": "5641b2cc",
   "metadata": {},
   "outputs": [
    {
     "name": "stdout",
     "output_type": "stream",
     "text": [
      "troubleshooting-secure-uploads-to-the-support-site\n"
     ]
    }
   ],
   "source": [
    "topic = \"Verification\"\n",
    "question = \"Troubleshooting secure uploads to the Support site\"\n",
    "new_question = clean_string(question)\n",
    "print(new_question)"
   ]
  },
  {
   "cell_type": "code",
   "execution_count": 1511,
   "id": "340494e2",
   "metadata": {},
   "outputs": [
    {
     "name": "stdout",
     "output_type": "stream",
     "text": [
      "https://support.stripe.com/questions/troubleshooting-secure-uploads-to-the-support-site\n"
     ]
    }
   ],
   "source": [
    "string = \"https://support.stripe.com/questions/\" + new_question\n",
    "#string = \"https://support.stripe.com/topics/getting-started\"\n",
    "print(string)"
   ]
  },
  {
   "cell_type": "code",
   "execution_count": 1512,
   "id": "a782068c",
   "metadata": {},
   "outputs": [],
   "source": [
    "page = requests.get(string)\n",
    "soup = BeautifulSoup(page.text, \"html.parser\")"
   ]
  },
  {
   "cell_type": "code",
   "execution_count": 1513,
   "id": "b323fe7e",
   "metadata": {},
   "outputs": [],
   "source": [
    "headers = soup.find_all(['h2', 'h3', 'h4'])"
   ]
  },
  {
   "cell_type": "code",
   "execution_count": 1514,
   "id": "617fa963",
   "metadata": {},
   "outputs": [],
   "source": [
    "answers = soup.findAll(\"p\")"
   ]
  },
  {
   "cell_type": "code",
   "execution_count": 1515,
   "id": "28aa179d",
   "metadata": {},
   "outputs": [
    {
     "name": "stdout",
     "output_type": "stream",
     "text": [
      "In some cases, Stripe will require you to provide documentation to verify your identity to help take action on your account.  This can be done securely via the Stripe Support site by following the links provided in your support case correspondence; please do not email Stripe with your documentation.\n",
      "If you are running into issues with uploading your file(s), try the following steps:\n",
      "Please note the below guidelines for uploading your file(s):\n",
      "Only one document can be uploaded per link\n",
      "File size limit – 32 mb\n",
      "File types accepted – .docx, .csv, .xlsx, .pdf, .jpg, .jpeg, .png, .tiff\n",
      "iOS users: If you are trying to upload directly from your phone and your photo is in .heic format, you will need to change the \"Camera > Formats\" setting to be \"Most Compatible\" to take a .jpg instead.\n",
      "Make sure that your uploaded photo / ID meet all of these requirements:\n",
      "The photo includes both your ID and a piece of paper that has today's date written on it\n",
      "The photo is in color and is not blurry, with all information fully visible\n",
      "The photo contains a physical ID with all edges included (scanned/printed copies are not acceptable)\n",
      "Your ID must not be expired\n",
      "Your ID cannot be altered, redacted, or damaged in any way\n",
      "If you are using your mobile phone, try laying the ID on a flat, contrasting surface in a well-lit room to provide the best possible photo.\n"
     ]
    }
   ],
   "source": [
    "for answer in answers:\n",
    "    print(answer.text)"
   ]
  },
  {
   "cell_type": "code",
   "execution_count": 1516,
   "id": "8bc78857",
   "metadata": {},
   "outputs": [
    {
     "name": "stdout",
     "output_type": "stream",
     "text": [
      "GENERAL TROUBLESHOOTING\n",
      "\n",
      "GOVERNMENT-ISSUED ID UPLOADS\n"
     ]
    }
   ],
   "source": [
    "headers.pop(0)\n",
    "for header in headers:\n",
    "    print(header.text)"
   ]
  },
  {
   "cell_type": "code",
   "execution_count": 1517,
   "id": "ba7fc1f9",
   "metadata": {},
   "outputs": [
    {
     "name": "stdout",
     "output_type": "stream",
     "text": [
      "In some cases, Stripe will require you to provide documentation to verify your identity to help take action on your account.  This can be done securely via the Stripe Support site by following the links provided in your support case correspondence; please do not email Stripe with your documentation.\n",
      "GENERAL TROUBLESHOOTING\n",
      "If you are running into issues with uploading your file(s), try the following steps:\n",
      "\n",
      "Please note the below guidelines for uploading your file(s):\n",
      "GOVERNMENT-ISSUED ID UPLOADS\n",
      "Only one document can be uploaded per link\n",
      "File size limit – 32 mb\n",
      "File types accepted – .docx, .csv, .xlsx, .pdf, .jpg, .jpeg, .png, .tiff\n",
      "iOS users: If you are trying to upload directly from your phone and your photo is in .heic format, you will need to change the \"Camera > Formats\" setting to be \"Most Compatible\" to take a .jpg instead.\n",
      "Make sure that your uploaded photo / ID meet all of these requirements:\n",
      "The photo includes both your ID and a piece of paper that has today's date written on it\n",
      "The photo is in color and is not blurry, with all information fully visible\n",
      "The photo contains a physical ID with all edges included (scanned/printed copies are not acceptable)\n",
      "Your ID must not be expired\n",
      "Your ID cannot be altered, redacted, or damaged in any way\n",
      "If you are using your mobile phone, try laying the ID on a flat, contrasting surface in a well-lit room to provide the best possible photo.\n",
      " In some cases, Stripe will require you to provide documentation to verify your identity to help take action on your account.  This can be done securely via the Stripe Support site by following the links provided in your support case correspondence; please do not email Stripe with your documentation. GENERAL TROUBLESHOOTING If you are running into issues with uploading your file(s), try the following steps:  Please note the below guidelines for uploading your file(s): GOVERNMENT-ISSUED ID UPLOADS Only one document can be uploaded per link File size limit – 32 mb File types accepted – .docx, .csv, .xlsx, .pdf, .jpg, .jpeg, .png, .tiff iOS users: If you are trying to upload directly from your phone and your photo is in .heic format, you will need to change the \"Camera > Formats\" setting to be \"Most Compatible\" to take a .jpg instead. Make sure that your uploaded photo / ID meet all of these requirements: The photo includes both your ID and a piece of paper that has today's date written on it The photo is in color and is not blurry, with all information fully visible The photo contains a physical ID with all edges included (scanned/printed copies are not acceptable) Your ID must not be expired Your ID cannot be altered, redacted, or damaged in any way If you are using your mobile phone, try laying the ID on a flat, contrasting surface in a well-lit room to provide the best possible photo.\n"
     ]
    }
   ],
   "source": [
    "final_answer = \"\"\n",
    "for answer, header in itertools.zip_longest(answers,headers):\n",
    "    if len(answers) > 0 :\n",
    "        print(answer.text)\n",
    "        final_answer = final_answer + \" \" + answer.text\n",
    "    if header != None :\n",
    "        print(header.text)\n",
    "        final_answer = final_answer + \" \" + header.text\n",
    "print(final_answer)"
   ]
  },
  {
   "cell_type": "code",
   "execution_count": 1518,
   "id": "5c23f10a",
   "metadata": {},
   "outputs": [],
   "source": [
    "def clean_string2(input_string):\n",
    "    # Remove newline characters (\\n) using the replace() method\n",
    "    cleaned_string = input_string.replace('\\n', ' ')\n",
    "\n",
    "    # Replace \"\\xa0\" characters with spaces using the replace() method\n",
    "    \n",
    "    cleaned_string = cleaned_string.replace('\\xa0', ' ')\n",
    "    # Remove leading white space using the strip() method\n",
    "    cleaned_string = cleaned_string.strip()\n",
    "\n",
    "    return cleaned_string"
   ]
  },
  {
   "cell_type": "code",
   "execution_count": 1519,
   "id": "2e0f49ec",
   "metadata": {},
   "outputs": [
    {
     "name": "stdout",
     "output_type": "stream",
     "text": [
      "In some cases, Stripe will require you to provide documentation to verify your identity to help take action on your account.  This can be done securely via the Stripe Support site by following the links provided in your support case correspondence; please do not email Stripe with your documentation. GENERAL TROUBLESHOOTING If you are running into issues with uploading your file(s), try the following steps:  Please note the below guidelines for uploading your file(s): GOVERNMENT-ISSUED ID UPLOADS Only one document can be uploaded per link File size limit – 32 mb File types accepted – .docx, .csv, .xlsx, .pdf, .jpg, .jpeg, .png, .tiff iOS users: If you are trying to upload directly from your phone and your photo is in .heic format, you will need to change the \"Camera > Formats\" setting to be \"Most Compatible\" to take a .jpg instead. Make sure that your uploaded photo / ID meet all of these requirements: The photo includes both your ID and a piece of paper that has today's date written on it The photo is in color and is not blurry, with all information fully visible The photo contains a physical ID with all edges included (scanned/printed copies are not acceptable) Your ID must not be expired Your ID cannot be altered, redacted, or damaged in any way If you are using your mobile phone, try laying the ID on a flat, contrasting surface in a well-lit room to provide the best possible photo.\n"
     ]
    }
   ],
   "source": [
    "final_answer = clean_string2(final_answer)\n",
    "print(final_answer)"
   ]
  },
  {
   "cell_type": "markdown",
   "id": "ca2ee3fa",
   "metadata": {},
   "source": [
    "## Adding a row containing scraped data "
   ]
  },
  {
   "cell_type": "code",
   "execution_count": 1522,
   "id": "16dc4473",
   "metadata": {},
   "outputs": [],
   "source": [
    "new_row = {'Topic': topic, 'Question': question, 'Answer' : final_answer}"
   ]
  },
  {
   "cell_type": "code",
   "execution_count": 1523,
   "id": "3b8abe0e",
   "metadata": {},
   "outputs": [],
   "source": [
    "df.loc[len(df)] = new_row"
   ]
  },
  {
   "cell_type": "code",
   "execution_count": 1524,
   "id": "6ef181f4",
   "metadata": {},
   "outputs": [
    {
     "data": {
      "text/html": [
       "<div>\n",
       "<style scoped>\n",
       "    .dataframe tbody tr th:only-of-type {\n",
       "        vertical-align: middle;\n",
       "    }\n",
       "\n",
       "    .dataframe tbody tr th {\n",
       "        vertical-align: top;\n",
       "    }\n",
       "\n",
       "    .dataframe thead th {\n",
       "        text-align: right;\n",
       "    }\n",
       "</style>\n",
       "<table border=\"1\" class=\"dataframe\">\n",
       "  <thead>\n",
       "    <tr style=\"text-align: right;\">\n",
       "      <th></th>\n",
       "      <th>Topic</th>\n",
       "      <th>Question</th>\n",
       "      <th>Answer</th>\n",
       "    </tr>\n",
       "  </thead>\n",
       "  <tbody>\n",
       "    <tr>\n",
       "      <th>0</th>\n",
       "      <td>Account</td>\n",
       "      <td>Sign in to your Stripe account without a 2FA d...</td>\n",
       "      <td>If you do not have your backup code or your au...</td>\n",
       "    </tr>\n",
       "    <tr>\n",
       "      <th>1</th>\n",
       "      <td>Account</td>\n",
       "      <td>Change the owner of a Stripe account</td>\n",
       "      <td>Change the owner of a Stripe account There are...</td>\n",
       "    </tr>\n",
       "    <tr>\n",
       "      <th>2</th>\n",
       "      <td>Account</td>\n",
       "      <td>Close a Stripe account</td>\n",
       "      <td>The owner of a Stripe account can close the ac...</td>\n",
       "    </tr>\n",
       "    <tr>\n",
       "      <th>3</th>\n",
       "      <td>Account</td>\n",
       "      <td>Unrecognized Stripe login email</td>\n",
       "      <td>Stripe sends an email when your account is acc...</td>\n",
       "    </tr>\n",
       "    <tr>\n",
       "      <th>4</th>\n",
       "      <td>Account</td>\n",
       "      <td>Set up account email notifications</td>\n",
       "      <td>Stripe can notify you of account activity via ...</td>\n",
       "    </tr>\n",
       "    <tr>\n",
       "      <th>...</th>\n",
       "      <td>...</td>\n",
       "      <td>...</td>\n",
       "      <td>...</td>\n",
       "    </tr>\n",
       "    <tr>\n",
       "      <th>250</th>\n",
       "      <td>Verification</td>\n",
       "      <td>Verification after name has changed.</td>\n",
       "      <td></td>\n",
       "    </tr>\n",
       "    <tr>\n",
       "      <th>251</th>\n",
       "      <td>Verification</td>\n",
       "      <td>Update tax ID information from the Dashboard</td>\n",
       "      <td>(This process doesn't apply to Stripe accounts...</td>\n",
       "    </tr>\n",
       "    <tr>\n",
       "      <th>252</th>\n",
       "      <td>Verification</td>\n",
       "      <td>UAE FAQ</td>\n",
       "      <td>How much does Stripe cost in the UAE? Getting ...</td>\n",
       "    </tr>\n",
       "    <tr>\n",
       "      <th>253</th>\n",
       "      <td>Verification</td>\n",
       "      <td>Bank account ownership verification</td>\n",
       "      <td>If Stripe cannot automatically verify the bank...</td>\n",
       "    </tr>\n",
       "    <tr>\n",
       "      <th>254</th>\n",
       "      <td>Verification</td>\n",
       "      <td>Troubleshooting secure uploads to the Support ...</td>\n",
       "      <td>In some cases, Stripe will require you to prov...</td>\n",
       "    </tr>\n",
       "  </tbody>\n",
       "</table>\n",
       "<p>255 rows × 3 columns</p>\n",
       "</div>"
      ],
      "text/plain": [
       "            Topic                                           Question  \\\n",
       "0         Account  Sign in to your Stripe account without a 2FA d...   \n",
       "1         Account               Change the owner of a Stripe account   \n",
       "2         Account                             Close a Stripe account   \n",
       "3         Account                    Unrecognized Stripe login email   \n",
       "4         Account                 Set up account email notifications   \n",
       "..            ...                                                ...   \n",
       "250  Verification               Verification after name has changed.   \n",
       "251  Verification       Update tax ID information from the Dashboard   \n",
       "252  Verification                                            UAE FAQ   \n",
       "253  Verification                Bank account ownership verification   \n",
       "254  Verification  Troubleshooting secure uploads to the Support ...   \n",
       "\n",
       "                                                Answer  \n",
       "0    If you do not have your backup code or your au...  \n",
       "1    Change the owner of a Stripe account There are...  \n",
       "2    The owner of a Stripe account can close the ac...  \n",
       "3    Stripe sends an email when your account is acc...  \n",
       "4    Stripe can notify you of account activity via ...  \n",
       "..                                                 ...  \n",
       "250                                                     \n",
       "251  (This process doesn't apply to Stripe accounts...  \n",
       "252  How much does Stripe cost in the UAE? Getting ...  \n",
       "253  If Stripe cannot automatically verify the bank...  \n",
       "254  In some cases, Stripe will require you to prov...  \n",
       "\n",
       "[255 rows x 3 columns]"
      ]
     },
     "execution_count": 1524,
     "metadata": {},
     "output_type": "execute_result"
    }
   ],
   "source": [
    "df"
   ]
  },
  {
   "cell_type": "code",
   "execution_count": 1525,
   "id": "3b406ab5",
   "metadata": {},
   "outputs": [],
   "source": [
    "df.to_csv('question_answer.csv', index= False, encoding='utf-8-sig')"
   ]
  },
  {
   "cell_type": "code",
   "execution_count": 1526,
   "id": "08a0e2a6",
   "metadata": {},
   "outputs": [],
   "source": [
    "#df = df.drop(df.index[-1])"
   ]
  },
  {
   "cell_type": "markdown",
   "id": "4994907a",
   "metadata": {},
   "source": [
    "## Deleting duplicates"
   ]
  },
  {
   "cell_type": "code",
   "execution_count": 1530,
   "id": "10f5cd9c",
   "metadata": {},
   "outputs": [],
   "source": [
    "\n",
    "# Get count duplicates single column using dataframe.pivot_table()\n",
    "df = df.drop_duplicates(subset='Answer', keep='first')\n"
   ]
  },
  {
   "cell_type": "code",
   "execution_count": 1531,
   "id": "d7199d95",
   "metadata": {},
   "outputs": [
    {
     "data": {
      "text/html": [
       "<div>\n",
       "<style scoped>\n",
       "    .dataframe tbody tr th:only-of-type {\n",
       "        vertical-align: middle;\n",
       "    }\n",
       "\n",
       "    .dataframe tbody tr th {\n",
       "        vertical-align: top;\n",
       "    }\n",
       "\n",
       "    .dataframe thead th {\n",
       "        text-align: right;\n",
       "    }\n",
       "</style>\n",
       "<table border=\"1\" class=\"dataframe\">\n",
       "  <thead>\n",
       "    <tr style=\"text-align: right;\">\n",
       "      <th></th>\n",
       "      <th>Topic</th>\n",
       "      <th>Question</th>\n",
       "      <th>Answer</th>\n",
       "    </tr>\n",
       "  </thead>\n",
       "  <tbody>\n",
       "    <tr>\n",
       "      <th>0</th>\n",
       "      <td>Account</td>\n",
       "      <td>Sign in to your Stripe account without a 2FA d...</td>\n",
       "      <td>If you do not have your backup code or your au...</td>\n",
       "    </tr>\n",
       "    <tr>\n",
       "      <th>1</th>\n",
       "      <td>Account</td>\n",
       "      <td>Change the owner of a Stripe account</td>\n",
       "      <td>Change the owner of a Stripe account There are...</td>\n",
       "    </tr>\n",
       "    <tr>\n",
       "      <th>2</th>\n",
       "      <td>Account</td>\n",
       "      <td>Close a Stripe account</td>\n",
       "      <td>The owner of a Stripe account can close the ac...</td>\n",
       "    </tr>\n",
       "    <tr>\n",
       "      <th>3</th>\n",
       "      <td>Account</td>\n",
       "      <td>Unrecognized Stripe login email</td>\n",
       "      <td>Stripe sends an email when your account is acc...</td>\n",
       "    </tr>\n",
       "    <tr>\n",
       "      <th>4</th>\n",
       "      <td>Account</td>\n",
       "      <td>Set up account email notifications</td>\n",
       "      <td>Stripe can notify you of account activity via ...</td>\n",
       "    </tr>\n",
       "    <tr>\n",
       "      <th>...</th>\n",
       "      <td>...</td>\n",
       "      <td>...</td>\n",
       "      <td>...</td>\n",
       "    </tr>\n",
       "    <tr>\n",
       "      <th>247</th>\n",
       "      <td>Verification</td>\n",
       "      <td>Troubleshooting verification issues for Stripe...</td>\n",
       "      <td>(To confirm the information needed to open a S...</td>\n",
       "    </tr>\n",
       "    <tr>\n",
       "      <th>250</th>\n",
       "      <td>Verification</td>\n",
       "      <td>Verification after name has changed.</td>\n",
       "      <td></td>\n",
       "    </tr>\n",
       "    <tr>\n",
       "      <th>251</th>\n",
       "      <td>Verification</td>\n",
       "      <td>Update tax ID information from the Dashboard</td>\n",
       "      <td>(This process doesn't apply to Stripe accounts...</td>\n",
       "    </tr>\n",
       "    <tr>\n",
       "      <th>252</th>\n",
       "      <td>Verification</td>\n",
       "      <td>UAE FAQ</td>\n",
       "      <td>How much does Stripe cost in the UAE? Getting ...</td>\n",
       "    </tr>\n",
       "    <tr>\n",
       "      <th>254</th>\n",
       "      <td>Verification</td>\n",
       "      <td>Troubleshooting secure uploads to the Support ...</td>\n",
       "      <td>In some cases, Stripe will require you to prov...</td>\n",
       "    </tr>\n",
       "  </tbody>\n",
       "</table>\n",
       "<p>231 rows × 3 columns</p>\n",
       "</div>"
      ],
      "text/plain": [
       "            Topic                                           Question  \\\n",
       "0         Account  Sign in to your Stripe account without a 2FA d...   \n",
       "1         Account               Change the owner of a Stripe account   \n",
       "2         Account                             Close a Stripe account   \n",
       "3         Account                    Unrecognized Stripe login email   \n",
       "4         Account                 Set up account email notifications   \n",
       "..            ...                                                ...   \n",
       "247  Verification  Troubleshooting verification issues for Stripe...   \n",
       "250  Verification               Verification after name has changed.   \n",
       "251  Verification       Update tax ID information from the Dashboard   \n",
       "252  Verification                                            UAE FAQ   \n",
       "254  Verification  Troubleshooting secure uploads to the Support ...   \n",
       "\n",
       "                                                Answer  \n",
       "0    If you do not have your backup code or your au...  \n",
       "1    Change the owner of a Stripe account There are...  \n",
       "2    The owner of a Stripe account can close the ac...  \n",
       "3    Stripe sends an email when your account is acc...  \n",
       "4    Stripe can notify you of account activity via ...  \n",
       "..                                                 ...  \n",
       "247  (To confirm the information needed to open a S...  \n",
       "250                                                     \n",
       "251  (This process doesn't apply to Stripe accounts...  \n",
       "252  How much does Stripe cost in the UAE? Getting ...  \n",
       "254  In some cases, Stripe will require you to prov...  \n",
       "\n",
       "[231 rows x 3 columns]"
      ]
     },
     "execution_count": 1531,
     "metadata": {},
     "output_type": "execute_result"
    }
   ],
   "source": [
    "df"
   ]
  },
  {
   "cell_type": "code",
   "execution_count": 1532,
   "id": "ca754659",
   "metadata": {},
   "outputs": [
    {
     "name": "stdout",
     "output_type": "stream",
     "text": [
      "0\n"
     ]
    }
   ],
   "source": [
    "num_duplicates = df.duplicated().sum()\n",
    "print(num_duplicates)"
   ]
  },
  {
   "cell_type": "code",
   "execution_count": 1533,
   "id": "39140045",
   "metadata": {},
   "outputs": [],
   "source": [
    "df.to_csv('question_answer.csv', index= False, encoding='utf-8-sig')"
   ]
  }
 ],
 "metadata": {
  "kernelspec": {
   "display_name": "Python 3 (ipykernel)",
   "language": "python",
   "name": "python3"
  },
  "language_info": {
   "codemirror_mode": {
    "name": "ipython",
    "version": 3
   },
   "file_extension": ".py",
   "mimetype": "text/x-python",
   "name": "python",
   "nbconvert_exporter": "python",
   "pygments_lexer": "ipython3",
   "version": "3.9.12"
  }
 },
 "nbformat": 4,
 "nbformat_minor": 5
}
